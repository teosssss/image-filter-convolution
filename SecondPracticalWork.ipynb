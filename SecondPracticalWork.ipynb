{
  "cells": [
    {
      "cell_type": "markdown",
      "metadata": {
        "id": "RgiFzR-TVFrA"
      },
      "source": [
        "#Second Practical work\n",
        "\n",
        "This is second practical work skeleton.\n",
        "\n",
        "It is divided in 3 parts_\n",
        "\n",
        "1.   Python module load section: load all the needed modules\n",
        "2.   Google Drive access and mounting\n",
        "3.   Host load data\n",
        "4.   GPU load\n",
        "\n",
        "\n",
        "\n"
      ]
    },
    {
      "cell_type": "markdown",
      "metadata": {
        "id": "tfmxFIzPWszg"
      },
      "source": [
        "##Module load section\n",
        "We will install the pycuda module in the colaboratory environment, to combine python and CUDA in our code. Because pycuda is not available by default, this task can take a few minutes.\n",
        "\n",
        "As well we load numpy and matplotlib modules."
      ]
    },
    {
      "cell_type": "code",
      "execution_count": null,
      "metadata": {
        "colab": {
          "base_uri": "https://localhost:8080/"
        },
        "id": "h5Q-ylEHHB2k",
        "outputId": "f22283ee-b336-4273-fac4-d75c6d2a7475"
      },
      "outputs": [],
      "source": [
        "!pip install pycuda"
      ]
    },
    {
      "cell_type": "markdown",
      "metadata": {
        "id": "hl4AhbSbW19W"
      },
      "source": [
        "We import the Python modules which we will use in the notebook (numpy, pycuda and time module) "
      ]
    },
    {
      "cell_type": "code",
      "execution_count": null,
      "metadata": {
        "id": "TLEg2Y41HFB3"
      },
      "outputs": [],
      "source": [
        "import  numpy  as  np\n",
        "import  pycuda.autoinit\n",
        "from    pycuda.compiler import SourceModule\n",
        "import  pycuda.driver as  drv\n",
        "import  pycuda.gpuarray as  gpuarray\n",
        "from sys import getsizeof\n",
        "import time"
      ]
    },
    {
      "cell_type": "code",
      "execution_count": null,
      "metadata": {
        "colab": {
          "base_uri": "https://localhost:8080/"
        },
        "id": "JfOtyml91WNb",
        "outputId": "0ab68dfe-2c44-4283-bd28-4bd921c81800"
      },
      "outputs": [],
      "source": [
        "%pylab inline\n",
        "from PIL import Image\n",
        "import matplotlib.pyplot as plt\n",
        "import matplotlib.image as mpimg\n",
        "import cProfile"
      ]
    },
    {
      "cell_type": "markdown",
      "metadata": {
        "id": "CHsvF9qH2G_u"
      },
      "source": [
        "##Mount Google Drive and access grant\n",
        "We use Google API to allow access to our Google Drive.\n",
        "\n",
        "For security and privacy reasons, this permission is temporally, and will be requested every time you restart the notebook. \n",
        "\n",
        "Your Google Drive will be mounted in the \"/content/drive\" folder. The first Folder will be \"My Drive\".\n",
        "\n",
        "You have to copy your images to a folder in the \"My Drive\" folder in your Google Drive.\n",
        "\n",
        "To check your available files, use the cell indicated as \"**List Files in Folder**\""
      ]
    },
    {
      "cell_type": "code",
      "execution_count": null,
      "metadata": {
        "colab": {
          "base_uri": "https://localhost:8080/"
        },
        "id": "jTL7-rwRugPE",
        "outputId": "7f3f9261-e03b-494b-db52-eae05e09d930"
      },
      "outputs": [],
      "source": [
        "from google.colab import drive\n",
        "drive.mount('/content/drive')"
      ]
    },
    {
      "cell_type": "code",
      "execution_count": null,
      "metadata": {
        "id": "EkjnBMlRhTX6"
      },
      "outputs": [],
      "source": []
    },
    {
      "cell_type": "code",
      "execution_count": null,
      "metadata": {
        "colab": {
          "base_uri": "https://localhost:8080/"
        },
        "id": "ykYa7-u8zDzk",
        "outputId": "d61d827a-19f7-4083-f8bd-adec52fdb786"
      },
      "outputs": [],
      "source": [
        "from os.path import join\n",
        "from google.colab import drive\n",
        "drive.mount(\"/content/drive\")"
      ]
    },
    {
      "cell_type": "code",
      "execution_count": null,
      "metadata": {
        "id": "RN-zy4mQzN-J"
      },
      "outputs": [],
      "source": [
        "MYDRIVE=\"/content/drive/My Drive/\""
      ]
    },
    {
      "cell_type": "markdown",
      "metadata": {
        "id": "ZtdarelZfv7Y"
      },
      "source": [
        "**List Files in Folders**"
      ]
    },
    {
      "cell_type": "code",
      "execution_count": null,
      "metadata": {
        "colab": {
          "base_uri": "https://localhost:8080/"
        },
        "id": "IEkj24AFzdqw",
        "outputId": "0a0baed7-477f-4cc9-9eb8-ba82d7238448"
      },
      "outputs": [],
      "source": [
        "!ls /content/drive/My\\ Drive/images"
      ]
    },
    {
      "cell_type": "markdown",
      "metadata": {
        "id": "hQ9NrNYXf1Rg"
      },
      "source": [
        "We define a variable IMAGE which is constructed joining the \"MYDRIVE\" varible plus the final path to your image."
      ]
    },
    {
      "cell_type": "code",
      "execution_count": null,
      "metadata": {
        "id": "2TAhlCjS0YPw"
      },
      "outputs": [],
      "source": [
        "IMAGE=MYDRIVE + 'images/digits.jpg'"
      ]
    },
    {
      "cell_type": "code",
      "execution_count": null,
      "metadata": {
        "colab": {
          "base_uri": "https://localhost:8080/"
        },
        "id": "xVa1h0wr0fDJ",
        "outputId": "46f4fbc0-d7e6-42b5-a433-6bec9b49e669"
      },
      "outputs": [],
      "source": [
        "print(\"Image to load: {0}\".format(IMAGE))"
      ]
    },
    {
      "cell_type": "markdown",
      "metadata": {
        "id": "otUSnNLOgilw"
      },
      "source": [
        "Loads an image in a numpy variable, and show."
      ]
    },
    {
      "cell_type": "code",
      "execution_count": null,
      "metadata": {
        "colab": {
          "base_uri": "https://localhost:8080/",
          "height": 287
        },
        "id": "K5MbuRm_1hdQ",
        "outputId": "e0b68bd2-bef2-47d8-e2b4-1c26332533a1"
      },
      "outputs": [],
      "source": [
        "image=np.array(Image.open(IMAGE))\n",
        "plt.figure()\n",
        "plt.imshow(image)"
      ]
    },
    {
      "cell_type": "markdown",
      "metadata": {
        "id": "GhQwn2EMXDEY"
      },
      "source": [
        "#FILTER KERNEL\n",
        "\n",
        "Here you have to define your image_filter GPU kernel."
      ]
    },
    {
      "cell_type": "markdown",
      "metadata": {
        "id": "N6NmxsN7X-02"
      },
      "source": [
        "Recover the image shape, and select the two first items (rows and columns)."
      ]
    },
    {
      "cell_type": "code",
      "execution_count": null,
      "metadata": {
        "id": "-9aWxHFFHxzT"
      },
      "outputs": [],
      "source": [
        "image_shape=image.shape[0:2]"
      ]
    },
    {
      "cell_type": "markdown",
      "metadata": {
        "id": "Txj67lrFYESV"
      },
      "source": [
        "Set block size and grid size."
      ]
    },
    {
      "cell_type": "code",
      "execution_count": null,
      "metadata": {
        "id": "sayAB5iQISs8"
      },
      "outputs": [],
      "source": [
        "block_s=16\n",
        "block_size=(block_s,block_s,1)\n",
        "grid_size=(int(np.ceil(image_shape[1]/block_s)),int(np.ceil(image_shape[0]/block_s)))"
      ]
    },
    {
      "cell_type": "markdown",
      "metadata": {
        "id": "4whAEkzPhvOC"
      },
      "source": [
        "Allocates the target image memory."
      ]
    },
    {
      "cell_type": "code",
      "execution_count": null,
      "metadata": {
        "id": "WnHTEzQXIw66"
      },
      "outputs": [],
      "source": [
        "result_image=np.zeros(image.shape,dtype=np.uint8)"
      ]
    },
    {
      "cell_type": "code",
      "execution_count": null,
      "metadata": {
        "id": "K8PcD3JeI-5K"
      },
      "outputs": [],
      "source": [
        "depth = image.shape[2]\n"
      ]
    },
    {
      "cell_type": "code",
      "execution_count": null,
      "metadata": {
        "colab": {
          "base_uri": "https://localhost:8080/"
        },
        "id": "qFTUf_HVbAuL",
        "outputId": "3ac9e862-00b3-4b9f-9fc5-36eae56f0b99"
      },
      "outputs": [],
      "source": [
        "print(image.shape)"
      ]
    },
    {
      "cell_type": "markdown",
      "metadata": {
        "id": "fV8ZVagpiI97"
      },
      "source": [
        "Here we defines our sample filter masks."
      ]
    },
    {
      "cell_type": "code",
      "execution_count": null,
      "metadata": {
        "id": "eWzJi8niPpuQ"
      },
      "outputs": [],
      "source": [
        "filter1=np.array([\n",
        "    [0,0,0,0,0],\n",
        "    [0,0,0,0,0],\n",
        "    [0,0,1,0,0],\n",
        "    [0,0,0,0,0],\n",
        "    [0,0,0,0,0]\n",
        "])\n",
        "filter2=np.array([[0.5, 0 , -0.5]])\n",
        "filter3=np.array([[0.5],[0],[-0.5]])\n",
        "\n",
        "filter4=np.array([\n",
        "    [1,0,-1],\n",
        "    [2,0,-2],\n",
        "    [1,0,-1]\n",
        "])\n",
        "filter5=np.array([\n",
        "    [0.00078633,0.00655965,0.01330373,0.00655965,0.00078633],\n",
        "    [0.00655965,0.05472157,0.11098164,0.05472157,0.00655965],\n",
        "    [0.01330373,0.11098164,0.22508352,0.11098164,0.01330373],\n",
        "    [0.00655965,0.05472157,0.11098164,0.05472157,0.00655965],\n",
        "    [0.00078633,0.00655965,0.01330373,0.00655965,0.00078633]\n",
        "])"
      ]
    },
    {
      "cell_type": "markdown",
      "metadata": {
        "id": "ZKu-1Eo7iSgz"
      },
      "source": [
        "We select the filter mask, and upload to the GPU device."
      ]
    },
    {
      "cell_type": "code",
      "execution_count": null,
      "metadata": {
        "id": "rxIm7BzdN8az"
      },
      "outputs": [],
      "source": [
        "filter_mask=filter5.astype(np.float32)\n",
        "filter_mask_gpu=gpuarray.to_gpu(filter_mask)"
      ]
    },
    {
      "cell_type": "markdown",
      "metadata": {
        "id": "yDWVNvNHkq7p"
      },
      "source": [
        "We write our kernel function. NOTE: Moved to lower in the notebook so that we could have block_size, NumRowsFilter, and NumColsFilter be constants. This is required by the compiler for allocating the shared memory."
      ]
    },
    {
      "cell_type": "code",
      "execution_count": null,
      "metadata": {
        "id": "PY6Tlr-DHWU6"
      },
      "outputs": [],
      "source": [
        "image_filter_tmp  =  \"\"\"\n",
        "\n",
        "__global__ void image_filter( float * image,          //Source GPU array floating point 32 bits,\n",
        "\t\t                          float * filter_mask,    //Filter Mask GPU array 2D floating point 32 bits\n",
        "                              float * filtered_image, //Target GPU array 2D floating point 32 bits,\n",
        "                              int NumRowsImg,         //Image Numrows,\n",
        "                              int NumColsImg,         //Int32 Image Numcolumns,\n",
        "                              int NumRowsFilter,       //Int32 Image NumRows filter mask,\n",
        "                              int NumColsFilter       //Int32 Image NumCols filter mask\n",
        "                              ) \n",
        "{ \n",
        "    // Shared memory for image tile\n",
        "    __shared__ float imageTile[%(BLOCK_SIZE)s+%(FILTER_ROWS)s-1][%(BLOCK_SIZE)s+%(FILTER_COLS)s-1];\n",
        "    __shared__ float filterShared[%(FILTER_ROWS)s][%(FILTER_COLS)s];\n",
        "\n",
        "    // Fill tiled memory for image\n",
        "    unsigned int offsetRows = NumRowsFilter / 2;\n",
        "    unsigned int offsetCols = NumColsFilter / 2;\n",
        "\n",
        "    // idxY is the index of the row in our target image we are computing with this thread\n",
        "    // idxX is the index of the col in our target image we are computing with this thread\n",
        "    unsigned int idxY = blockIdx.y*blockDim.y+threadIdx.y; //With this we calculate the row address in target matrix\n",
        "    unsigned int idxX = blockIdx.x*blockDim.x+threadIdx.x;\n",
        "    \n",
        "    // ---FILL TILE INNER---\n",
        "    // ---FILL TILE INNER---\n",
        "    // ---FILL TILE INNER---\n",
        "    // ---FILL TILE INNER---\n",
        "    // ---FILL TILE INNER---\n",
        "    \n",
        "    // Fills the inner part of the tile (direct copy over from original image taking into account blocks that might exceed image matrix borders)\n",
        "    if ((idxY<NumRowsImg) && (idxX<NumColsImg)){\n",
        "      unsigned int vIdx=idxY*NumColsImg+idxX;\n",
        "      imageTile[offsetRows+threadIdx.y][offsetCols+threadIdx.x] = image[vIdx];\n",
        "    } else {\n",
        "      unsigned int r = idxY;\n",
        "      unsigned int c = idxX;\n",
        "      if (r >= NumRowsImg) {\n",
        "        r = NumRowsImg - 1;\n",
        "      }\n",
        "      if (c >= NumColsImg) {\n",
        "        c = NumColsImg - 1;\n",
        "      }\n",
        "      //calculate the index in the original matrix\n",
        "      unsigned int vIdxShiftded=r*NumColsImg+c;\n",
        "      imageTile[offsetRows+threadIdx.y][offsetCols+threadIdx.x] = image[vIdxShiftded];\n",
        "    }\n",
        "\n",
        "\n",
        "    // ---FILL TILE BORDERS---\n",
        "    // ---FILL TILE BORDERS---\n",
        "    // ---FILL TILE BORDERS---\n",
        "    // ---FILL TILE BORDERS---\n",
        "    // ---FILL TILE BORDERS---\n",
        "    \n",
        "    // Fills the rows above the block in the tile\n",
        "    // Uses the first (offsetRows) rows of threads to copy\n",
        "    if (threadIdx.y < offsetRows) {\n",
        "      int aboveIdxY = idxY - offsetRows;\n",
        "      if (aboveIdxY < 0) {\n",
        "        aboveIdxY = 0;\n",
        "      }\n",
        "      int aboveIdxX = idxX;\n",
        "      if (aboveIdxX >= NumColsImg) {\n",
        "        aboveIdxX = NumColsImg - 1;\n",
        "      }\n",
        "      //calculate the index in the original matrix\n",
        "      int aboveVIdxShiftded=aboveIdxY*NumColsImg+aboveIdxX;\n",
        "      imageTile[threadIdx.y][offsetCols+threadIdx.x] = image[aboveVIdxShiftded];\n",
        "    }\n",
        "\n",
        "    // Fills the cols left of the block in the tile\n",
        "    // Uses the first (offsetCols) cols of threads to copy\n",
        "    if (threadIdx.x < offsetCols) {\n",
        "      int leftIdxY = idxY;\n",
        "      if (leftIdxY >= NumRowsImg) {\n",
        "        leftIdxY = NumRowsImg - 1;\n",
        "      }\n",
        "      int leftIdxX = idxX - offsetCols;\n",
        "      if (leftIdxX < 0) {\n",
        "        leftIdxX = 0;\n",
        "      }\n",
        "      //calculate the index in the original matrix\n",
        "      int leftVIdxShiftded=leftIdxY*NumColsImg+leftIdxX;\n",
        "      imageTile[threadIdx.y+offsetRows][threadIdx.x] = image[leftVIdxShiftded];\n",
        "    }\n",
        "\n",
        "    // Fills the rows below the block in the tile\n",
        "    // Uses the last (offsetRows) rows of threads to copy\n",
        "    if (threadIdx.y+offsetRows >= blockDim.y) {\n",
        "      int belowIdxY = idxY + offsetRows;\n",
        "      if (belowIdxY >= NumRowsImg) {\n",
        "        belowIdxY = NumRowsImg - 1;\n",
        "      }\n",
        "\n",
        "      int belowIdxX = idxX;\n",
        "      if (belowIdxX >= NumColsImg) {\n",
        "        belowIdxX = NumColsImg - 1;\n",
        "      }\n",
        "      //calculate the index in the original matrix\n",
        "      int belowVIdxShifted=belowIdxY*NumColsImg+belowIdxX;\n",
        "      imageTile[threadIdx.y+2*offsetRows][offsetCols+threadIdx.x] = image[belowVIdxShifted];\n",
        "    }\n",
        "\n",
        "    // Fills the cols right of the block in the tile\n",
        "    // Uses the last (offsetCols) cols of threads to copy\n",
        "    if (threadIdx.x +offsetCols>= blockDim.x ) {\n",
        "      int rightIdxY = idxY;\n",
        "      if (rightIdxY >= NumRowsImg) {\n",
        "        rightIdxY = NumRowsImg - 1;\n",
        "      }\n",
        "      int rightIdxX = idxX + offsetCols;\n",
        "      if (rightIdxX >= NumColsImg) {\n",
        "        rightIdxX = NumColsImg - 1;\n",
        "      }\n",
        "      //calculate the index in the original matrix\n",
        "      int rightVIdxShiftded=rightIdxY*NumColsImg+rightIdxX;\n",
        "      imageTile[threadIdx.y+offsetRows][2*offsetCols+threadIdx.x] = image[rightVIdxShiftded];\n",
        "    }\n",
        "\n",
        "\n",
        "\n",
        "    // ---FILL TILE CORNERS---\n",
        "    // ---FILL TILE CORNERS---\n",
        "    // ---FILL TILE CORNERS---\n",
        "    // ---FILL TILE CORNERS---\n",
        "    // ---FILL TILE CORNERS---\n",
        "\n",
        "    //upper left corner\n",
        "    if ((threadIdx.y<offsetRows)&&(threadIdx.x<offsetCols)){\n",
        "      int upperLeftIdxY=idxY-offsetRows;\n",
        "      //check if the corner is above the first row\n",
        "      if (upperLeftIdxY<0){\n",
        "        upperLeftIdxY=0;\n",
        "      } \n",
        "      //check if the corner is out of the matrix(start left column)\n",
        "      int upperLeftIdxX=idxX-offsetCols;\n",
        "      if(upperLeftIdxX<0){\n",
        "        upperLeftIdxX=0;\n",
        "      } \n",
        "      //calculate the index in the original matrix\n",
        "       int upperLeftVIdxShiftded=upperLeftIdxY*NumColsImg+upperLeftIdxX;\n",
        "      imageTile[threadIdx.y][threadIdx.x]=image[upperLeftVIdxShiftded];\n",
        "    }\n",
        "\n",
        "\n",
        "    //upper right corner\n",
        "    if ((threadIdx.y<offsetRows)&&(threadIdx.x+offsetCols >= blockDim.x )){\n",
        "      int upperRightIdxY=idxY-offsetRows;\n",
        "      //check if the corner is above the first row\n",
        "      if (upperRightIdxY<0){\n",
        "        upperRightIdxY=0;\n",
        "      }\n",
        "      //check if corner is out of the matrix(right column)\n",
        "      int upperRightIdxX=idxX;\n",
        "      if(upperRightIdxX>=NumColsImg){\n",
        "        upperRightIdxX=NumColsImg-1;\n",
        "      }\n",
        "      //calculate the index in the original matrix\n",
        "      int upperRightVIdxShiftded=upperRightIdxY*NumColsImg+upperRightIdxX;\n",
        "      imageTile[threadIdx.y][threadIdx.x+2*offsetCols]=image[upperRightVIdxShiftded];\n",
        "    }\n",
        "\n",
        "\n",
        "    //below right corner\n",
        "    if ((threadIdx.y+offsetRows>= blockDim.y)&&(threadIdx.x+offsetCols >= blockDim.x )){\n",
        "      int belowRightIdxY=idxY+offsetRows;\n",
        "      //check if the corner is out of the matrix(under)\n",
        "      if (belowRightIdxY>=NumRowsImg){\n",
        "        belowRightIdxY=NumRowsImg-1;\n",
        "      }\n",
        "      //check if corner is out of the matrix(right column)\n",
        "      int belowRightIdxX=idxX+offsetCols;\n",
        "      if(belowRightIdxX>=NumColsImg){\n",
        "        belowRightIdxX=NumColsImg-1;\n",
        "      } \n",
        "      //calculate the index in the original matrix\n",
        "      int belowRightVIdxShiftded=belowRightIdxY*NumColsImg+belowRightIdxX;\n",
        "      imageTile[threadIdx.y+2*offsetRows][threadIdx.x+2*offsetCols]=image[belowRightVIdxShiftded];\n",
        "    }\n",
        "\n",
        "\n",
        "    //below left corner\n",
        "    if ((threadIdx.y+offsetRows>= blockDim.y)&&(threadIdx.x<offsetCols )){\n",
        "      int belowLeftIdxY=idxY+offsetRows;\n",
        "      //check if the corner is out of the matrix(under)\n",
        "      if (belowLeftIdxY>=NumRowsImg){\n",
        "        belowLeftIdxY=NumRowsImg-1;\n",
        "      }\n",
        "      //check if the corner is out of the matrix(start left column)\n",
        "      int belowLeftIdxX=idxX-offsetCols;\n",
        "      if(belowLeftIdxX<0){\n",
        "        belowLeftIdxX=0;\n",
        "      } \n",
        "      //calculate the index in the original matrix\n",
        "      int belowLeftVIdxShiftded=belowLeftIdxY*NumColsImg+belowLeftIdxX;\n",
        "      imageTile[threadIdx.y+2*offsetRows][threadIdx.x]=image[belowLeftVIdxShiftded];\n",
        "    }\n",
        "\n",
        "\n",
        "\n",
        "\n",
        "    // ---FILL FILTER---\n",
        "    // ---FILL FILTER---\n",
        "    // ---FILL FILTER---\n",
        "    // ---FILL FILTER---\n",
        "    // ---FILL FILTER---\n",
        "\n",
        "    // threads populate filterShared\n",
        "    if( (threadIdx.x<NumColsFilter) && (threadIdx.y<NumRowsFilter)){\n",
        "      filterShared[threadIdx.y][threadIdx.x]=filter_mask[threadIdx.y*NumColsFilter+threadIdx.x];\n",
        "    }\n",
        "    \n",
        "\n",
        "    // ---APPLY FILTER---\n",
        "    // ---APPLY FILTER---\n",
        "    // ---APPLY FILTER---\n",
        "    // ---APPLY FILTER---\n",
        "    // ---APPLY FILTER---\n",
        "\n",
        "    //wait till all thread finishes to fill the tile\n",
        "    __syncthreads();\n",
        "\n",
        "    //  compute the filtered pixel value and store it in filtered_image[vX]\n",
        "    float accu = 0;\n",
        "    int y, x;\n",
        "    //image convolution\n",
        "    //check if i'm inside the final matrix\n",
        "    if ( ( ( idxY ) < NumRowsImg ) && ( ( idxX ) < NumColsImg )){\n",
        "      for (y = 0; y < NumRowsFilter; y++){\n",
        "         for (x = 0; x < NumColsFilter; x++){\n",
        "           //calculate the filtered value for a pixel\n",
        "            accu += imageTile[threadIdx.y + y][threadIdx.x + x] * filterShared[y][x];\n",
        "            \n",
        "         }\n",
        "      }\n",
        "      //store the value inside the filtered matrix\n",
        "      filtered_image[idxY*NumColsImg+idxX] = accu;\n",
        "    }\n",
        "      // Synchronize to make sure that the preceding computation is done \n",
        "    __syncthreads();\n",
        "\n",
        "\n",
        "\n",
        "}\n",
        "\n",
        "\"\"\"\n",
        "\n"
      ]
    },
    {
      "cell_type": "code",
      "execution_count": null,
      "metadata": {
        "id": "H_SxfV1-wLhg"
      },
      "outputs": [],
      "source": [
        "BLOCK_SIZE=16"
      ]
    },
    {
      "cell_type": "code",
      "execution_count": null,
      "metadata": {
        "id": "0WC6YBc9wL-C"
      },
      "outputs": [],
      "source": [
        "FILTER_ROWS=filter_mask.shape[0]\n",
        "FILTER_COLS=filter_mask.shape[1]"
      ]
    },
    {
      "cell_type": "code",
      "execution_count": null,
      "metadata": {
        "id": "p9xEEDn5u-Tq"
      },
      "outputs": [],
      "source": [
        "Image_filter_src=image_filter_tmp%{\n",
        "    'BLOCK_SIZE':BLOCK_SIZE,\n",
        "    'FILTER_ROWS':FILTER_ROWS,\n",
        "    'FILTER_COLS':FILTER_COLS\n",
        "\n",
        "\n",
        "}"
      ]
    },
    {
      "cell_type": "code",
      "execution_count": null,
      "metadata": {
        "id": "7LPYy8x6uB9K"
      },
      "outputs": [],
      "source": [
        "kernel = SourceModule(Image_filter_src)"
      ]
    },
    {
      "cell_type": "markdown",
      "metadata": {
        "id": "ovzzmuXBXYFH"
      },
      "source": [
        "And import the kernel definition to python"
      ]
    },
    {
      "cell_type": "code",
      "execution_count": null,
      "metadata": {
        "id": "cHkXntH0H2lL"
      },
      "outputs": [],
      "source": [
        "image_filter = kernel.get_function ('image_filter')"
      ]
    },
    {
      "cell_type": "markdown",
      "metadata": {
        "id": "IZ8gPCW0ijld"
      },
      "source": [
        "##Prepares the execution environment "
      ]
    },
    {
      "cell_type": "markdown",
      "metadata": {
        "id": "cdGCCI0PixrT"
      },
      "source": [
        "Allocate the temporal filtered memory layer, where will be store the filtered image."
      ]
    },
    {
      "cell_type": "code",
      "execution_count": null,
      "metadata": {
        "id": "7qK0LgeDWU27"
      },
      "outputs": [],
      "source": [
        "filtered_image_layer_gpu = gpuarray.zeros(image_shape,np.float32)"
      ]
    },
    {
      "cell_type": "markdown",
      "metadata": {
        "id": "-1oLCrqAYqED"
      },
      "source": [
        "Here defines the main block.\n",
        "Walk through the layers. Copying the selected layer to temporal image_layer, upload the layer to the GPU and invokes the image_filter kernel."
      ]
    },
    {
      "cell_type": "code",
      "execution_count": null,
      "metadata": {
        "id": "lvEsPtYFIUl3"
      },
      "outputs": [],
      "source": [
        "start_t = time.time()\n",
        "for layer in range(depth):\n",
        "  image_layer = np.zeros(image_shape,dtype=np.float32) #Allocate the temporal image layer\n",
        "  image_layer=(image[:,:,layer]).astype(np.float32)    #Copy from the orignal image the selected layer into the temporal memory\n",
        "  image_layer_gpu=gpuarray.to_gpu(image_layer)         #Uploads the image layer to the GPU\n",
        "  filtered_image_layer_gpu.fill(0.0)                   #Fills with 0 the target memory in the GPU\n",
        "  image_filter(                                        #invokes the kernel\n",
        "          image_layer_gpu,\n",
        "          filter_mask_gpu,\n",
        "          filtered_image_layer_gpu,\n",
        "          np.int32(image_shape[0]),\n",
        "          np.int32(image_shape[1]),\n",
        "          np.int32(filter_mask.shape[0]),\n",
        "          np.int32(filter_mask.shape[1]),\n",
        "          block=block_size,\n",
        "          grid=grid_size\n",
        "        )\n",
        "  filtered_image_layer=filtered_image_layer_gpu.get() #Download from the GPU the filtered image\n",
        "  result_image[:,:,layer] = filtered_image_layer.astype(np.uint8) #Copy the filtered image to the final image store, \n",
        "                                                                  #casting the data type from double to uint8\n",
        "end_t = time.time()"
      ]
    },
    {
      "cell_type": "markdown",
      "metadata": {
        "id": "uKz2XKjBkvgR"
      },
      "source": [
        "#Show results\n"
      ]
    },
    {
      "cell_type": "code",
      "execution_count": null,
      "metadata": {
        "colab": {
          "base_uri": "https://localhost:8080/"
        },
        "id": "en0HMjtnk8uS",
        "outputId": "47ce439c-0419-427e-a39e-165e0171e607"
      },
      "outputs": [],
      "source": [
        "print(\"Execution time is: {0} seconds.\".format(end_t-start_t))"
      ]
    },
    {
      "cell_type": "code",
      "execution_count": null,
      "metadata": {
        "colab": {
          "base_uri": "https://localhost:8080/",
          "height": 287
        },
        "id": "QnoPI5BCS9_o",
        "outputId": "da5c86cb-15f5-46bb-e1e8-204442170533"
      },
      "outputs": [],
      "source": [
        "plt.figure()\n",
        "plt.imshow(result_image)"
      ]
    },
    {
      "cell_type": "markdown",
      "metadata": {
        "id": "XoX3uMQ4src2"
      },
      "source": [
        "## **ANALISYS AND CONCLUSION**\n",
        "\n",
        "#### **TIME COMPARISON CPU VS GPU :**\n",
        "\n",
        "We can compare two different implementation of image filter using the `first practical work` that was implemented using **multiprocessing** and this work that was implemented using **pyCuda library**.\n",
        "\n",
        "IMAGE1(chess.jpg):\n",
        "\n",
        "- *CPU* time using `filter1`(3x3): Execution time is: ***3.6 seconds***\n",
        "\n",
        "- *CPU* time using `filter2`(1x3): Execution time is: ***2.5 seconds***\n",
        "\n",
        "- *GPU* time using `filter1`(3x3): Execution time is: ***0.0032 seconds.***\n",
        "\n",
        "- *GPU* time using `filter2`(1x3): Execution time is: ***0.0031 seconds.***\n",
        "\n",
        "\n",
        "We can notice that filtering using *GPU* is a lot more fast than *CPU* infact comparing the results of `filter1` is approximately ***1093.75 times faster***\n",
        "\n",
        "Also using *CPU* `filter1` is **1.5 time slower than `filter2`** that's because of less computation done by the *CPU*  due to the difference of size of the filters.\n",
        "\n",
        "Instead for the *GPU* the results are not as may expected infact the difference of time between `filter1` and `filter2` is almost the same ,even if the filter size between the two is different, that's because of the really high computational power of the *GPU*.\n",
        "\n",
        "So we can conclude saying that because the *GPU* is much faster (approximately 1093 times in this case) than the *CPU* filtering an image with the *GPU* is a much better and faster approach than filtering with the *CPU*.\n",
        "\n",
        "\n",
        "\n",
        "\n",
        "#### **SHARED MEMORY VS GLOBAL MEMORY**\n",
        "\n",
        "In this work we used the shared memory tile approach instead of using global memory in the *GPU* but what of the two approach is the better one?\n",
        "\n",
        "as we saw in other works accessing to **shared memory** is much faster \n",
        "than **global** due to the fact that's shared memory is faster to access. \n",
        "\n",
        "However, in order to do anything you need to fill the **shared memory** with something, you usually pull from the **global memory**, in this case we had to **fill the tile of the shared memory** with the value in the image in the global memory but we have also to fill the borders and corners to have the computation of the filter working well.\n",
        "\n",
        "The use of **shared memory** is when you need to within a block of threads, reuse data already pulled or evaluated from **global memory**. So instead of pulling from global memory again, you put it **in the shared memory for other threads within the same block to see and reuse.**\n",
        "\n",
        "\n",
        "\n",
        "\n",
        "\n",
        "\n",
        "\n",
        "\n",
        "\n"
      ]
    }
  ],
  "metadata": {
    "accelerator": "GPU",
    "colab": {
      "provenance": []
    },
    "gpuClass": "standard",
    "kernelspec": {
      "display_name": "Python 3",
      "language": "python",
      "name": "python3"
    },
    "language_info": {
      "codemirror_mode": {
        "name": "ipython",
        "version": 3
      },
      "file_extension": ".py",
      "mimetype": "text/x-python",
      "name": "python",
      "nbconvert_exporter": "python",
      "pygments_lexer": "ipython3",
      "version": "3.7.9"
    }
  },
  "nbformat": 4,
  "nbformat_minor": 0
}
